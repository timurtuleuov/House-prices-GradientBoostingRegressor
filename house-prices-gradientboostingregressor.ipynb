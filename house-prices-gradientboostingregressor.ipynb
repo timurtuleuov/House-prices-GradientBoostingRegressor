{
 "cells": [
  {
   "cell_type": "markdown",
   "id": "57073bdc",
   "metadata": {
    "papermill": {
     "duration": 0.014162,
     "end_time": "2022-07-11T07:43:48.461902",
     "exception": false,
     "start_time": "2022-07-11T07:43:48.447740",
     "status": "completed"
    },
    "tags": []
   },
   "source": [
    "<h1>Import necessary libraries</h1>"
   ]
  },
  {
   "cell_type": "code",
   "execution_count": 1,
   "id": "427b4826",
   "metadata": {
    "execution": {
     "iopub.execute_input": "2022-07-11T07:43:48.479401Z",
     "iopub.status.busy": "2022-07-11T07:43:48.478578Z",
     "iopub.status.idle": "2022-07-11T07:43:49.663331Z",
     "shell.execute_reply": "2022-07-11T07:43:49.662298Z"
    },
    "papermill": {
     "duration": 1.196385,
     "end_time": "2022-07-11T07:43:49.666012",
     "exception": false,
     "start_time": "2022-07-11T07:43:48.469627",
     "status": "completed"
    },
    "tags": []
   },
   "outputs": [],
   "source": [
    "import pandas as pd\n",
    "import matplotlib.pyplot as plt\n",
    "%matplotlib inline\n",
    "import seaborn as sns\n",
    "import numpy as np\n",
    "from scipy.stats import norm\n",
    "from sklearn.preprocessing import StandardScaler\n",
    "from scipy import stats\n",
    "from scipy.stats import norm, skew"
   ]
  },
  {
   "cell_type": "code",
   "execution_count": 2,
   "id": "9d9c401c",
   "metadata": {
    "execution": {
     "iopub.execute_input": "2022-07-11T07:43:49.682692Z",
     "iopub.status.busy": "2022-07-11T07:43:49.682352Z",
     "iopub.status.idle": "2022-07-11T07:43:49.749483Z",
     "shell.execute_reply": "2022-07-11T07:43:49.748635Z"
    },
    "papermill": {
     "duration": 0.077891,
     "end_time": "2022-07-11T07:43:49.751744",
     "exception": false,
     "start_time": "2022-07-11T07:43:49.673853",
     "status": "completed"
    },
    "tags": []
   },
   "outputs": [],
   "source": [
    "#our train and test dataframe\n",
    "df_train = pd.read_csv('../input/house-prices-advanced-regression-techniques/train.csv')\n",
    "df_test = pd.read_csv('../input/house-prices-advanced-regression-techniques/test.csv')"
   ]
  },
  {
   "cell_type": "markdown",
   "id": "7a42eb1a",
   "metadata": {
    "papermill": {
     "duration": 0.007285,
     "end_time": "2022-07-11T07:43:49.766624",
     "exception": false,
     "start_time": "2022-07-11T07:43:49.759339",
     "status": "completed"
    },
    "tags": []
   },
   "source": [
    "<h1>Visualization and work with missing data</h1>"
   ]
  },
  {
   "cell_type": "code",
   "execution_count": 3,
   "id": "d6eb1bbd",
   "metadata": {
    "execution": {
     "iopub.execute_input": "2022-07-11T07:43:49.783646Z",
     "iopub.status.busy": "2022-07-11T07:43:49.783112Z",
     "iopub.status.idle": "2022-07-11T07:43:49.790832Z",
     "shell.execute_reply": "2022-07-11T07:43:49.790250Z"
    },
    "papermill": {
     "duration": 0.018982,
     "end_time": "2022-07-11T07:43:49.793105",
     "exception": false,
     "start_time": "2022-07-11T07:43:49.774123",
     "status": "completed"
    },
    "tags": []
   },
   "outputs": [
    {
     "data": {
      "text/plain": [
       "Index(['Id', 'MSSubClass', 'MSZoning', 'LotFrontage', 'LotArea', 'Street',\n",
       "       'Alley', 'LotShape', 'LandContour', 'Utilities', 'LotConfig',\n",
       "       'LandSlope', 'Neighborhood', 'Condition1', 'Condition2', 'BldgType',\n",
       "       'HouseStyle', 'OverallQual', 'OverallCond', 'YearBuilt', 'YearRemodAdd',\n",
       "       'RoofStyle', 'RoofMatl', 'Exterior1st', 'Exterior2nd', 'MasVnrType',\n",
       "       'MasVnrArea', 'ExterQual', 'ExterCond', 'Foundation', 'BsmtQual',\n",
       "       'BsmtCond', 'BsmtExposure', 'BsmtFinType1', 'BsmtFinSF1',\n",
       "       'BsmtFinType2', 'BsmtFinSF2', 'BsmtUnfSF', 'TotalBsmtSF', 'Heating',\n",
       "       'HeatingQC', 'CentralAir', 'Electrical', '1stFlrSF', '2ndFlrSF',\n",
       "       'LowQualFinSF', 'GrLivArea', 'BsmtFullBath', 'BsmtHalfBath', 'FullBath',\n",
       "       'HalfBath', 'BedroomAbvGr', 'KitchenAbvGr', 'KitchenQual',\n",
       "       'TotRmsAbvGrd', 'Functional', 'Fireplaces', 'FireplaceQu', 'GarageType',\n",
       "       'GarageYrBlt', 'GarageFinish', 'GarageCars', 'GarageArea', 'GarageQual',\n",
       "       'GarageCond', 'PavedDrive', 'WoodDeckSF', 'OpenPorchSF',\n",
       "       'EnclosedPorch', '3SsnPorch', 'ScreenPorch', 'PoolArea', 'PoolQC',\n",
       "       'Fence', 'MiscFeature', 'MiscVal', 'MoSold', 'YrSold', 'SaleType',\n",
       "       'SaleCondition', 'SalePrice'],\n",
       "      dtype='object')"
      ]
     },
     "execution_count": 3,
     "metadata": {},
     "output_type": "execute_result"
    }
   ],
   "source": [
    "df_train.columns"
   ]
  },
  {
   "cell_type": "code",
   "execution_count": 4,
   "id": "480f23e1",
   "metadata": {
    "execution": {
     "iopub.execute_input": "2022-07-11T07:43:49.809216Z",
     "iopub.status.busy": "2022-07-11T07:43:49.808456Z",
     "iopub.status.idle": "2022-07-11T07:43:49.821731Z",
     "shell.execute_reply": "2022-07-11T07:43:49.820602Z"
    },
    "papermill": {
     "duration": 0.024288,
     "end_time": "2022-07-11T07:43:49.824451",
     "exception": false,
     "start_time": "2022-07-11T07:43:49.800163",
     "status": "completed"
    },
    "tags": []
   },
   "outputs": [
    {
     "name": "stdout",
     "output_type": "stream",
     "text": [
      "Number of missing data is 6965\n"
     ]
    }
   ],
   "source": [
    "print(\"Number of missing data is\", df_train.isna().sum().sum())"
   ]
  },
  {
   "cell_type": "code",
   "execution_count": 5,
   "id": "716c85fd",
   "metadata": {
    "execution": {
     "iopub.execute_input": "2022-07-11T07:43:49.841905Z",
     "iopub.status.busy": "2022-07-11T07:43:49.841397Z",
     "iopub.status.idle": "2022-07-11T07:43:50.172644Z",
     "shell.execute_reply": "2022-07-11T07:43:50.171846Z"
    },
    "papermill": {
     "duration": 0.342191,
     "end_time": "2022-07-11T07:43:50.175200",
     "exception": false,
     "start_time": "2022-07-11T07:43:49.833009",
     "status": "completed"
    },
    "tags": []
   },
   "outputs": [
    {
     "data": {
      "text/plain": [
       "<AxesSubplot:title={'center':'Missing Columns'}, ylabel='% of missing'>"
      ]
     },
     "execution_count": 5,
     "metadata": {},
     "output_type": "execute_result"
    },
    {
     "data": {
      "image/png": "[encoded data removed]",
      "text/plain": [
       "<Figure size 432x288 with 1 Axes>"
      ]
     },
     "metadata": {
      "needs_background": "light"
     },
     "output_type": "display_data"
    }
   ],
   "source": [
    "missing_values = df_train.isna().sum(axis=0)/df_train.shape[0]\n",
    "missing_values = missing_values.loc[missing_values > 0]\n",
    "missing_values.sort_values(ascending=True)\n",
    "missing_values.plot( kind='bar',\n",
    "                     title = 'Missing Columns',\n",
    "                     ylabel = '% of missing',\n",
    "                     ylim = (0,1.2),\n",
    "                     grid = True\n",
    "                   )"
   ]
  },
  {
   "cell_type": "code",
   "execution_count": 6,
   "id": "ac411a80",
   "metadata": {
    "execution": {
     "iopub.execute_input": "2022-07-11T07:43:50.192668Z",
     "iopub.status.busy": "2022-07-11T07:43:50.192352Z",
     "iopub.status.idle": "2022-07-11T07:43:50.202919Z",
     "shell.execute_reply": "2022-07-11T07:43:50.202133Z"
    },
    "papermill": {
     "duration": 0.021364,
     "end_time": "2022-07-11T07:43:50.204779",
     "exception": false,
     "start_time": "2022-07-11T07:43:50.183415",
     "status": "completed"
    },
    "tags": []
   },
   "outputs": [
    {
     "data": {
      "text/plain": [
       "count      1460.000000\n",
       "mean     180921.195890\n",
       "std       79442.502883\n",
       "min       34900.000000\n",
       "25%      129975.000000\n",
       "50%      163000.000000\n",
       "75%      214000.000000\n",
       "max      755000.000000\n",
       "Name: SalePrice, dtype: float64"
      ]
     },
     "execution_count": 6,
     "metadata": {},
     "output_type": "execute_result"
    }
   ],
   "source": [
    "df_train[\"SalePrice\"].describe()"
   ]
  },
  {
   "cell_type": "code",
   "execution_count": 7,
   "id": "2aa2c3ae",
   "metadata": {
    "execution": {
     "iopub.execute_input": "2022-07-11T07:43:50.222333Z",
     "iopub.status.busy": "2022-07-11T07:43:50.221984Z",
     "iopub.status.idle": "2022-07-11T07:43:50.557597Z",
     "shell.execute_reply": "2022-07-11T07:43:50.556626Z"
    },
    "papermill": {
     "duration": 0.346739,
     "end_time": "2022-07-11T07:43:50.559678",
     "exception": false,
     "start_time": "2022-07-11T07:43:50.212939",
     "status": "completed"
    },
    "tags": []
   },
   "outputs": [
    {
     "name": "stderr",
     "output_type": "stream",
     "text": [
      "/opt/conda/lib/python3.7/site-packages/seaborn/distributions.py:2619: FutureWarning: `distplot` is a deprecated function and will be removed in a future version. Please adapt your code to use either `displot` (a figure-level function with similar flexibility) or `histplot` (an axes-level function for histograms).\n",
      "  warnings.warn(msg, FutureWarning)\n"
     ]
    },
    {
     "data": {
      "text/plain": [
       "<AxesSubplot:xlabel='SalePrice', ylabel='Density'>"
      ]
     },
     "execution_count": 7,
     "metadata": {},
     "output_type": "execute_result"
    },
    {
     "data": {
      "image/png": "[encoded data removed]",
      "text/plain": [
       "<Figure size 1440x864 with 1 Axes>"
      ]
     },
     "metadata": {
      "needs_background": "light"
     },
     "output_type": "display_data"
    }
   ],
   "source": [
    "plt.figure(figsize=(20,12))\n",
    "sns.distplot(df_train[\"SalePrice\"])"
   ]
  },
  {
   "cell_type": "code",
   "execution_count": 8,
   "id": "1f16a599",
   "metadata": {
    "execution": {
     "iopub.execute_input": "2022-07-11T07:43:50.579932Z",
     "iopub.status.busy": "2022-07-11T07:43:50.579071Z",
     "iopub.status.idle": "2022-07-11T07:43:51.310284Z",
     "shell.execute_reply": "2022-07-11T07:43:51.309424Z"
    },
    "papermill": {
     "duration": 0.743322,
     "end_time": "2022-07-11T07:43:51.312095",
     "exception": false,
     "start_time": "2022-07-11T07:43:50.568773",
     "status": "completed"
    },
    "tags": []
   },
   "outputs": [
    {
     "data": {
      "image/png": "[encoded data removed]",
      "text/plain": [
       "<Figure size 1440x864 with 2 Axes>"
      ]
     },
     "metadata": {},
     "output_type": "display_data"
    }
   ],
   "source": [
    "#saleprice correlation matrix\n",
    "corrmat = df_train.corr()\n",
    "k = 10 #number of variables for heatmap\n",
    "cols = corrmat.nlargest(k, 'SalePrice')['SalePrice'].index\n",
    "cm = np.corrcoef(df_train[cols].values.T)\n",
    "sns.set(font_scale=1.25)\n",
    "plt.subplots(figsize=(20,12))\n",
    "hm = sns.heatmap(cm, cbar=True, annot=True, square=True, fmt='.2f', annot_kws={'size': 10}, yticklabels=cols.values, xticklabels=cols.values)\n",
    "plt.show()"
   ]
  },
  {
   "cell_type": "code",
   "execution_count": 9,
   "id": "e6cda8df",
   "metadata": {
    "execution": {
     "iopub.execute_input": "2022-07-11T07:43:51.334783Z",
     "iopub.status.busy": "2022-07-11T07:43:51.334012Z",
     "iopub.status.idle": "2022-07-11T07:43:51.584965Z",
     "shell.execute_reply": "2022-07-11T07:43:51.584057Z"
    },
    "papermill": {
     "duration": 0.264581,
     "end_time": "2022-07-11T07:43:51.587170",
     "exception": false,
     "start_time": "2022-07-11T07:43:51.322589",
     "status": "completed"
    },
    "tags": []
   },
   "outputs": [],
   "source": [
    "from sklearn.ensemble import GradientBoostingRegressor"
   ]
  },
  {
   "cell_type": "code",
   "execution_count": 10,
   "id": "040cf200",
   "metadata": {
    "execution": {
     "iopub.execute_input": "2022-07-11T07:43:51.610308Z",
     "iopub.status.busy": "2022-07-11T07:43:51.609594Z",
     "iopub.status.idle": "2022-07-11T07:43:51.613513Z",
     "shell.execute_reply": "2022-07-11T07:43:51.612897Z"
    },
    "papermill": {
     "duration": 0.017526,
     "end_time": "2022-07-11T07:43:51.615330",
     "exception": false,
     "start_time": "2022-07-11T07:43:51.597804",
     "status": "completed"
    },
    "tags": []
   },
   "outputs": [],
   "source": [
    "y_train = df_train[\"SalePrice\"]"
   ]
  },
  {
   "cell_type": "code",
   "execution_count": 11,
   "id": "b0d399b3",
   "metadata": {
    "execution": {
     "iopub.execute_input": "2022-07-11T07:43:51.637100Z",
     "iopub.status.busy": "2022-07-11T07:43:51.636564Z",
     "iopub.status.idle": "2022-07-11T07:43:51.657209Z",
     "shell.execute_reply": "2022-07-11T07:43:51.656587Z"
    },
    "papermill": {
     "duration": 0.033743,
     "end_time": "2022-07-11T07:43:51.658977",
     "exception": false,
     "start_time": "2022-07-11T07:43:51.625234",
     "status": "completed"
    },
    "tags": []
   },
   "outputs": [],
   "source": [
    "train_and_test_df = pd.concat([df_train, df_test], axis = 0)\n",
    "train_and_test_df = train_and_test_df.drop([\"Id\", \"SalePrice\"], axis = 1)"
   ]
  },
  {
   "cell_type": "code",
   "execution_count": 12,
   "id": "4a00b165",
   "metadata": {
    "execution": {
     "iopub.execute_input": "2022-07-11T07:43:51.681624Z",
     "iopub.status.busy": "2022-07-11T07:43:51.681081Z",
     "iopub.status.idle": "2022-07-11T07:43:51.727334Z",
     "shell.execute_reply": "2022-07-11T07:43:51.726725Z"
    },
    "papermill": {
     "duration": 0.060066,
     "end_time": "2022-07-11T07:43:51.729568",
     "exception": false,
     "start_time": "2022-07-11T07:43:51.669502",
     "status": "completed"
    },
    "tags": []
   },
   "outputs": [],
   "source": [
    "number_of_missing_df = train_and_test_df.isnull().sum().sort_values()\n",
    "percent_of_missing_df = ((train_and_test_df.isnull().sum() / train_and_test_df.isnull().count())*100).sort_values()"
   ]
  },
  {
   "cell_type": "code",
   "execution_count": 13,
   "id": "6fdbbe63",
   "metadata": {
    "execution": {
     "iopub.execute_input": "2022-07-11T07:43:51.754012Z",
     "iopub.status.busy": "2022-07-11T07:43:51.753465Z",
     "iopub.status.idle": "2022-07-11T07:43:51.764832Z",
     "shell.execute_reply": "2022-07-11T07:43:51.763952Z"
    },
    "papermill": {
     "duration": 0.026363,
     "end_time": "2022-07-11T07:43:51.766826",
     "exception": false,
     "start_time": "2022-07-11T07:43:51.740463",
     "status": "completed"
    },
    "tags": []
   },
   "outputs": [
    {
     "name": "stdout",
     "output_type": "stream",
     "text": [
      "              total number of missing data  total percent of missing data\n",
      "MSSubClass                               0                            0.0\n",
      "Foundation                               0                            0.0\n",
      "Heating                                  0                            0.0\n",
      "CentralAir                               0                            0.0\n",
      "1stFlrSF                                 0                            0.0\n",
      "2ndFlrSF                                 0                            0.0\n",
      "LowQualFinSF                             0                            0.0\n",
      "GrLivArea                                0                            0.0\n",
      "FullBath                                 0                            0.0\n",
      "HalfBath                                 0                            0.0 \n",
      "\n",
      "              total number of missing data  total percent of missing data\n",
      "GarageFinish                           159                       5.447071\n",
      "GarageYrBlt                            159                       5.447071\n",
      "GarageQual                             159                       5.447071\n",
      "GarageCond                             159                       5.447071\n",
      "LotFrontage                            486                      16.649538\n",
      "FireplaceQu                           1420                      48.646797\n",
      "Fence                                 2348                      80.438506\n",
      "Alley                                 2721                      93.216855\n",
      "MiscFeature                           2814                      96.402878\n",
      "PoolQC                                2909                      99.657417\n"
     ]
    }
   ],
   "source": [
    "missing_df = pd.concat([number_of_missing_df,\n",
    "                        percent_of_missing_df],\n",
    "                        keys = [\"total number of missing data\", 'total percent of missing data'],\n",
    "                        axis = 1)\n",
    "\n",
    "\n",
    "print(missing_df.head(10), \"\\n\")\n",
    "print(missing_df.tail(10))"
   ]
  },
  {
   "cell_type": "code",
   "execution_count": 14,
   "id": "7774e2b0",
   "metadata": {
    "execution": {
     "iopub.execute_input": "2022-07-11T07:43:51.789122Z",
     "iopub.status.busy": "2022-07-11T07:43:51.788457Z",
     "iopub.status.idle": "2022-07-11T07:43:51.808051Z",
     "shell.execute_reply": "2022-07-11T07:43:51.807308Z"
    },
    "papermill": {
     "duration": 0.032825,
     "end_time": "2022-07-11T07:43:51.809801",
     "exception": false,
     "start_time": "2022-07-11T07:43:51.776976",
     "status": "completed"
    },
    "tags": []
   },
   "outputs": [
    {
     "data": {
      "text/plain": [
       "MSZoning         4\n",
       "Functional       2\n",
       "BsmtFullBath     2\n",
       "BsmtHalfBath     2\n",
       "Utilities        2\n",
       "                ..\n",
       "ExterCond        0\n",
       "Foundation       0\n",
       "Heating          0\n",
       "CentralAir       0\n",
       "SaleCondition    0\n",
       "Length: 61, dtype: int64"
      ]
     },
     "execution_count": 14,
     "metadata": {},
     "output_type": "execute_result"
    }
   ],
   "source": [
    "train_and_test_df = train_and_test_df.drop((missing_df[missing_df[\"total number of missing data\"] > 5]).index, axis = 1)\n",
    "train_and_test_df.isnull().sum().sort_values(ascending = False)"
   ]
  },
  {
   "cell_type": "code",
   "execution_count": 15,
   "id": "237ce266",
   "metadata": {
    "execution": {
     "iopub.execute_input": "2022-07-11T07:43:51.832619Z",
     "iopub.status.busy": "2022-07-11T07:43:51.832075Z",
     "iopub.status.idle": "2022-07-11T07:43:51.891483Z",
     "shell.execute_reply": "2022-07-11T07:43:51.890445Z"
    },
    "papermill": {
     "duration": 0.073472,
     "end_time": "2022-07-11T07:43:51.893683",
     "exception": false,
     "start_time": "2022-07-11T07:43:51.820211",
     "status": "completed"
    },
    "tags": []
   },
   "outputs": [],
   "source": [
    "numeric_data = [column for column in train_and_test_df.select_dtypes([\"int\", \"float\"])]\n",
    "categoric_data = [column for column in train_and_test_df.select_dtypes(exclude = [\"int\", \"float\"])]\n",
    "\n",
    "for col in numeric_data:\n",
    "    train_and_test_df[col].fillna(train_and_test_df[col].median(), inplace = True)\n",
    "        \n",
    "for col in categoric_data:\n",
    "    train_and_test_df[col].fillna(train_and_test_df[col].value_counts().index[0], inplace = True)"
   ]
  },
  {
   "cell_type": "code",
   "execution_count": 16,
   "id": "ffefe386",
   "metadata": {
    "execution": {
     "iopub.execute_input": "2022-07-11T07:43:51.916266Z",
     "iopub.status.busy": "2022-07-11T07:43:51.915897Z",
     "iopub.status.idle": "2022-07-11T07:43:51.931240Z",
     "shell.execute_reply": "2022-07-11T07:43:51.929983Z"
    },
    "papermill": {
     "duration": 0.028828,
     "end_time": "2022-07-11T07:43:51.933277",
     "exception": false,
     "start_time": "2022-07-11T07:43:51.904449",
     "status": "completed"
    },
    "tags": []
   },
   "outputs": [
    {
     "name": "stdout",
     "output_type": "stream",
     "text": [
      "Number of missing data is 0\n"
     ]
    }
   ],
   "source": [
    "print(\"Number of missing data is\", train_and_test_df.isna().sum().sum())"
   ]
  },
  {
   "cell_type": "code",
   "execution_count": 17,
   "id": "10179eae",
   "metadata": {
    "execution": {
     "iopub.execute_input": "2022-07-11T07:43:51.956631Z",
     "iopub.status.busy": "2022-07-11T07:43:51.956116Z",
     "iopub.status.idle": "2022-07-11T07:43:52.037931Z",
     "shell.execute_reply": "2022-07-11T07:43:52.037021Z"
    },
    "papermill": {
     "duration": 0.09578,
     "end_time": "2022-07-11T07:43:52.039879",
     "exception": false,
     "start_time": "2022-07-11T07:43:51.944099",
     "status": "completed"
    },
    "tags": []
   },
   "outputs": [
    {
     "data": {
      "text/html": [
       "<div>\n",
       "<style scoped>\n",
       "    .dataframe tbody tr th:only-of-type {\n",
       "        vertical-align: middle;\n",
       "    }\n",
       "\n",
       "    .dataframe tbody tr th {\n",
       "        vertical-align: top;\n",
       "    }\n",
       "\n",
       "    .dataframe thead th {\n",
       "        text-align: right;\n",
       "    }\n",
       "</style>\n",
       "<table border=\"1\" class=\"dataframe\">\n",
       "  <thead>\n",
       "    <tr style=\"text-align: right;\">\n",
       "      <th></th>\n",
       "      <th>MSSubClass</th>\n",
       "      <th>LotArea</th>\n",
       "      <th>OverallQual</th>\n",
       "      <th>OverallCond</th>\n",
       "      <th>YearBuilt</th>\n",
       "      <th>YearRemodAdd</th>\n",
       "      <th>BsmtFinSF1</th>\n",
       "      <th>BsmtFinSF2</th>\n",
       "      <th>BsmtUnfSF</th>\n",
       "      <th>TotalBsmtSF</th>\n",
       "      <th>...</th>\n",
       "      <th>SaleType_ConLI</th>\n",
       "      <th>SaleType_ConLw</th>\n",
       "      <th>SaleType_New</th>\n",
       "      <th>SaleType_Oth</th>\n",
       "      <th>SaleType_WD</th>\n",
       "      <th>SaleCondition_AdjLand</th>\n",
       "      <th>SaleCondition_Alloca</th>\n",
       "      <th>SaleCondition_Family</th>\n",
       "      <th>SaleCondition_Normal</th>\n",
       "      <th>SaleCondition_Partial</th>\n",
       "    </tr>\n",
       "  </thead>\n",
       "  <tbody>\n",
       "    <tr>\n",
       "      <th>0</th>\n",
       "      <td>4.110874</td>\n",
       "      <td>9.042040</td>\n",
       "      <td>2.079442</td>\n",
       "      <td>1.791759</td>\n",
       "      <td>7.602900</td>\n",
       "      <td>7.602900</td>\n",
       "      <td>6.561031</td>\n",
       "      <td>0.0</td>\n",
       "      <td>5.017280</td>\n",
       "      <td>6.753438</td>\n",
       "      <td>...</td>\n",
       "      <td>0</td>\n",
       "      <td>0</td>\n",
       "      <td>0</td>\n",
       "      <td>0</td>\n",
       "      <td>1</td>\n",
       "      <td>0</td>\n",
       "      <td>0</td>\n",
       "      <td>0</td>\n",
       "      <td>1</td>\n",
       "      <td>0</td>\n",
       "    </tr>\n",
       "    <tr>\n",
       "      <th>1</th>\n",
       "      <td>3.044522</td>\n",
       "      <td>9.169623</td>\n",
       "      <td>1.945910</td>\n",
       "      <td>2.197225</td>\n",
       "      <td>7.589336</td>\n",
       "      <td>7.589336</td>\n",
       "      <td>6.886532</td>\n",
       "      <td>0.0</td>\n",
       "      <td>5.652489</td>\n",
       "      <td>7.141245</td>\n",
       "      <td>...</td>\n",
       "      <td>0</td>\n",
       "      <td>0</td>\n",
       "      <td>0</td>\n",
       "      <td>0</td>\n",
       "      <td>1</td>\n",
       "      <td>0</td>\n",
       "      <td>0</td>\n",
       "      <td>0</td>\n",
       "      <td>1</td>\n",
       "      <td>0</td>\n",
       "    </tr>\n",
       "    <tr>\n",
       "      <th>2</th>\n",
       "      <td>4.110874</td>\n",
       "      <td>9.328212</td>\n",
       "      <td>2.079442</td>\n",
       "      <td>1.791759</td>\n",
       "      <td>7.601902</td>\n",
       "      <td>7.602401</td>\n",
       "      <td>6.188264</td>\n",
       "      <td>0.0</td>\n",
       "      <td>6.075346</td>\n",
       "      <td>6.825460</td>\n",
       "      <td>...</td>\n",
       "      <td>0</td>\n",
       "      <td>0</td>\n",
       "      <td>0</td>\n",
       "      <td>0</td>\n",
       "      <td>1</td>\n",
       "      <td>0</td>\n",
       "      <td>0</td>\n",
       "      <td>0</td>\n",
       "      <td>1</td>\n",
       "      <td>0</td>\n",
       "    </tr>\n",
       "    <tr>\n",
       "      <th>3</th>\n",
       "      <td>4.262680</td>\n",
       "      <td>9.164401</td>\n",
       "      <td>2.079442</td>\n",
       "      <td>1.791759</td>\n",
       "      <td>7.557995</td>\n",
       "      <td>7.586296</td>\n",
       "      <td>5.379897</td>\n",
       "      <td>0.0</td>\n",
       "      <td>6.293419</td>\n",
       "      <td>6.629363</td>\n",
       "      <td>...</td>\n",
       "      <td>0</td>\n",
       "      <td>0</td>\n",
       "      <td>0</td>\n",
       "      <td>0</td>\n",
       "      <td>1</td>\n",
       "      <td>0</td>\n",
       "      <td>0</td>\n",
       "      <td>0</td>\n",
       "      <td>0</td>\n",
       "      <td>0</td>\n",
       "    </tr>\n",
       "    <tr>\n",
       "      <th>4</th>\n",
       "      <td>4.110874</td>\n",
       "      <td>9.565284</td>\n",
       "      <td>2.197225</td>\n",
       "      <td>1.791759</td>\n",
       "      <td>7.601402</td>\n",
       "      <td>7.601402</td>\n",
       "      <td>6.486161</td>\n",
       "      <td>0.0</td>\n",
       "      <td>6.196444</td>\n",
       "      <td>7.044033</td>\n",
       "      <td>...</td>\n",
       "      <td>0</td>\n",
       "      <td>0</td>\n",
       "      <td>0</td>\n",
       "      <td>0</td>\n",
       "      <td>1</td>\n",
       "      <td>0</td>\n",
       "      <td>0</td>\n",
       "      <td>0</td>\n",
       "      <td>1</td>\n",
       "      <td>0</td>\n",
       "    </tr>\n",
       "  </tbody>\n",
       "</table>\n",
       "<p>5 rows × 189 columns</p>\n",
       "</div>"
      ],
      "text/plain": [
       "   MSSubClass   LotArea  OverallQual  OverallCond  YearBuilt  YearRemodAdd  \\\n",
       "0    4.110874  9.042040     2.079442     1.791759   7.602900      7.602900   \n",
       "1    3.044522  9.169623     1.945910     2.197225   7.589336      7.589336   \n",
       "2    4.110874  9.328212     2.079442     1.791759   7.601902      7.602401   \n",
       "3    4.262680  9.164401     2.079442     1.791759   7.557995      7.586296   \n",
       "4    4.110874  9.565284     2.197225     1.791759   7.601402      7.601402   \n",
       "\n",
       "   BsmtFinSF1  BsmtFinSF2  BsmtUnfSF  TotalBsmtSF  ...  SaleType_ConLI  \\\n",
       "0    6.561031         0.0   5.017280     6.753438  ...               0   \n",
       "1    6.886532         0.0   5.652489     7.141245  ...               0   \n",
       "2    6.188264         0.0   6.075346     6.825460  ...               0   \n",
       "3    5.379897         0.0   6.293419     6.629363  ...               0   \n",
       "4    6.486161         0.0   6.196444     7.044033  ...               0   \n",
       "\n",
       "   SaleType_ConLw  SaleType_New  SaleType_Oth  SaleType_WD  \\\n",
       "0               0             0             0            1   \n",
       "1               0             0             0            1   \n",
       "2               0             0             0            1   \n",
       "3               0             0             0            1   \n",
       "4               0             0             0            1   \n",
       "\n",
       "   SaleCondition_AdjLand  SaleCondition_Alloca  SaleCondition_Family  \\\n",
       "0                      0                     0                     0   \n",
       "1                      0                     0                     0   \n",
       "2                      0                     0                     0   \n",
       "3                      0                     0                     0   \n",
       "4                      0                     0                     0   \n",
       "\n",
       "   SaleCondition_Normal  SaleCondition_Partial  \n",
       "0                     1                      0  \n",
       "1                     1                      0  \n",
       "2                     1                      0  \n",
       "3                     0                      0  \n",
       "4                     1                      0  \n",
       "\n",
       "[5 rows x 189 columns]"
      ]
     },
     "execution_count": 17,
     "metadata": {},
     "output_type": "execute_result"
    }
   ],
   "source": [
    "# select numeric variables of the dataset\n",
    "numeric_data = [column for column in train_and_test_df.select_dtypes([\"int\", \"float\"])]\n",
    "\n",
    "# check skew degree\n",
    "vars_skewed = train_and_test_df[numeric_data].apply(lambda x: skew(x)).sort_values()\n",
    "\n",
    "# fix skew \n",
    "for var in vars_skewed.index:\n",
    "    train_and_test_df[var] = np.log1p(train_and_test_df[var])\n",
    "train_and_test_df = train_and_test_df.drop([\"GarageArea\", \"1stFlrSF\", \"TotRmsAbvGrd\"],\n",
    "                                          axis = 1)\n",
    "\n",
    "train_and_test_df = pd.get_dummies(train_and_test_df, drop_first = True)\n",
    "train_and_test_df.head()"
   ]
  },
  {
   "cell_type": "code",
   "execution_count": 18,
   "id": "eb89ab75",
   "metadata": {
    "execution": {
     "iopub.execute_input": "2022-07-11T07:43:52.063493Z",
     "iopub.status.busy": "2022-07-11T07:43:52.062955Z",
     "iopub.status.idle": "2022-07-11T07:43:52.067542Z",
     "shell.execute_reply": "2022-07-11T07:43:52.066712Z"
    },
    "papermill": {
     "duration": 0.018082,
     "end_time": "2022-07-11T07:43:52.069198",
     "exception": false,
     "start_time": "2022-07-11T07:43:52.051116",
     "status": "completed"
    },
    "tags": []
   },
   "outputs": [],
   "source": [
    "#split our data\n",
    "X_train = train_and_test_df[:len(df_train)]\n",
    "X_test = train_and_test_df[len(df_train):]"
   ]
  },
  {
   "cell_type": "code",
   "execution_count": 19,
   "id": "df4c1722",
   "metadata": {
    "execution": {
     "iopub.execute_input": "2022-07-11T07:43:52.092838Z",
     "iopub.status.busy": "2022-07-11T07:43:52.092520Z",
     "iopub.status.idle": "2022-07-11T07:43:52.097610Z",
     "shell.execute_reply": "2022-07-11T07:43:52.096839Z"
    },
    "papermill": {
     "duration": 0.018979,
     "end_time": "2022-07-11T07:43:52.099319",
     "exception": false,
     "start_time": "2022-07-11T07:43:52.080340",
     "status": "completed"
    },
    "tags": []
   },
   "outputs": [
    {
     "data": {
      "text/plain": [
       "((1460, 189), (1459, 189))"
      ]
     },
     "execution_count": 19,
     "metadata": {},
     "output_type": "execute_result"
    }
   ],
   "source": [
    "X_train.shape, X_test.shape"
   ]
  },
  {
   "cell_type": "markdown",
   "id": "da95b181",
   "metadata": {
    "papermill": {
     "duration": 0.010557,
     "end_time": "2022-07-11T07:43:52.121114",
     "exception": false,
     "start_time": "2022-07-11T07:43:52.110557",
     "status": "completed"
    },
    "tags": []
   },
   "source": [
    "<h1>It's time to make robots work for people</h1>"
   ]
  },
  {
   "cell_type": "code",
   "execution_count": 20,
   "id": "78552108",
   "metadata": {
    "execution": {
     "iopub.execute_input": "2022-07-11T07:43:52.144991Z",
     "iopub.status.busy": "2022-07-11T07:43:52.144427Z",
     "iopub.status.idle": "2022-07-11T07:43:52.148060Z",
     "shell.execute_reply": "2022-07-11T07:43:52.147525Z"
    },
    "papermill": {
     "duration": 0.017711,
     "end_time": "2022-07-11T07:43:52.149717",
     "exception": false,
     "start_time": "2022-07-11T07:43:52.132006",
     "status": "completed"
    },
    "tags": []
   },
   "outputs": [],
   "source": [
    "from sklearn.ensemble import GradientBoostingRegressor\n",
    "from sklearn.model_selection import KFold"
   ]
  },
  {
   "cell_type": "code",
   "execution_count": 21,
   "id": "de4982fe",
   "metadata": {
    "execution": {
     "iopub.execute_input": "2022-07-11T07:43:52.174781Z",
     "iopub.status.busy": "2022-07-11T07:43:52.173879Z",
     "iopub.status.idle": "2022-07-11T07:43:52.178369Z",
     "shell.execute_reply": "2022-07-11T07:43:52.177570Z"
    },
    "papermill": {
     "duration": 0.018986,
     "end_time": "2022-07-11T07:43:52.180296",
     "exception": false,
     "start_time": "2022-07-11T07:43:52.161310",
     "status": "completed"
    },
    "tags": []
   },
   "outputs": [],
   "source": [
    "reg = GradientBoostingRegressor(random_state=42, loss='ls', learning_rate=0.1)"
   ]
  },
  {
   "cell_type": "code",
   "execution_count": 22,
   "id": "378ce1ab",
   "metadata": {
    "execution": {
     "iopub.execute_input": "2022-07-11T07:43:52.205047Z",
     "iopub.status.busy": "2022-07-11T07:43:52.204265Z",
     "iopub.status.idle": "2022-07-11T07:43:52.903731Z",
     "shell.execute_reply": "2022-07-11T07:43:52.902881Z"
    },
    "papermill": {
     "duration": 0.713799,
     "end_time": "2022-07-11T07:43:52.905577",
     "exception": false,
     "start_time": "2022-07-11T07:43:52.191778",
     "status": "completed"
    },
    "tags": []
   },
   "outputs": [
    {
     "name": "stderr",
     "output_type": "stream",
     "text": [
      "/opt/conda/lib/python3.7/site-packages/sklearn/ensemble/_gb.py:290: FutureWarning: The loss 'ls' was deprecated in v1.0 and will be removed in version 1.2. Use 'squared_error' which is equivalent.\n",
      "  FutureWarning,\n"
     ]
    },
    {
     "data": {
      "text/plain": [
       "GradientBoostingRegressor(loss='ls', random_state=42)"
      ]
     },
     "execution_count": 22,
     "metadata": {},
     "output_type": "execute_result"
    }
   ],
   "source": [
    "reg.fit(X_train, y_train)"
   ]
  },
  {
   "cell_type": "code",
   "execution_count": 23,
   "id": "4fa573bc",
   "metadata": {
    "execution": {
     "iopub.execute_input": "2022-07-11T07:43:52.930447Z",
     "iopub.status.busy": "2022-07-11T07:43:52.929880Z",
     "iopub.status.idle": "2022-07-11T07:43:52.942281Z",
     "shell.execute_reply": "2022-07-11T07:43:52.941353Z"
    },
    "papermill": {
     "duration": 0.0273,
     "end_time": "2022-07-11T07:43:52.944388",
     "exception": false,
     "start_time": "2022-07-11T07:43:52.917088",
     "status": "completed"
    },
    "tags": []
   },
   "outputs": [],
   "source": [
    "y_pred = reg.predict(X_test)"
   ]
  },
  {
   "cell_type": "code",
   "execution_count": 24,
   "id": "528e186e",
   "metadata": {
    "execution": {
     "iopub.execute_input": "2022-07-11T07:43:52.969332Z",
     "iopub.status.busy": "2022-07-11T07:43:52.968966Z",
     "iopub.status.idle": "2022-07-11T07:43:52.982986Z",
     "shell.execute_reply": "2022-07-11T07:43:52.982280Z"
    },
    "papermill": {
     "duration": 0.028552,
     "end_time": "2022-07-11T07:43:52.984656",
     "exception": false,
     "start_time": "2022-07-11T07:43:52.956104",
     "status": "completed"
    },
    "tags": []
   },
   "outputs": [
    {
     "data": {
      "text/plain": [
       "0.9634303244770946"
      ]
     },
     "execution_count": 24,
     "metadata": {},
     "output_type": "execute_result"
    }
   ],
   "source": [
    "reg.score(X_train, y_train)"
   ]
  },
  {
   "cell_type": "code",
   "execution_count": 25,
   "id": "d6f220a2",
   "metadata": {
    "execution": {
     "iopub.execute_input": "2022-07-11T07:43:53.009607Z",
     "iopub.status.busy": "2022-07-11T07:43:53.009007Z",
     "iopub.status.idle": "2022-07-11T07:43:53.022702Z",
     "shell.execute_reply": "2022-07-11T07:43:53.022132Z"
    },
    "papermill": {
     "duration": 0.028265,
     "end_time": "2022-07-11T07:43:53.024578",
     "exception": false,
     "start_time": "2022-07-11T07:43:52.996313",
     "status": "completed"
    },
    "tags": []
   },
   "outputs": [],
   "source": [
    "submission = pd.DataFrame()\n",
    "submission[\"Id\"] = df_test[\"Id\"]\n",
    "submission[\"SalePrice\"] = y_pred\n",
    "submission.to_csv(\"submission.csv\", index = False)"
   ]
  },
  {
   "cell_type": "markdown",
   "id": "1f3b9371",
   "metadata": {
    "papermill": {
     "duration": 0.011029,
     "end_time": "2022-07-11T07:43:53.047173",
     "exception": false,
     "start_time": "2022-07-11T07:43:53.036144",
     "status": "completed"
    },
    "tags": []
   },
   "source": [
    "<h2 align=\"right\">See you, Spacecowboy...</h2>"
   ]
  }
 ],
 "metadata": {
  "kernelspec": {
   "display_name": "Python 3",
   "language": "python",
   "name": "python3"
  },
  "language_info": {
   "codemirror_mode": {
    "name": "ipython",
    "version": 3
   },
   "file_extension": ".py",
   "mimetype": "text/x-python",
   "name": "python",
   "nbconvert_exporter": "python",
   "pygments_lexer": "ipython3",
   "version": "3.7.12"
  },
  "papermill": {
   "default_parameters": {},
   "duration": 14.456632,
   "end_time": "2022-07-11T07:43:53.677190",
   "environment_variables": {},
   "exception": null,
   "input_path": "__notebook__.ipynb",
   "output_path": "__notebook__.ipynb",
   "parameters": {},
   "start_time": "2022-07-11T07:43:39.220558",
   "version": "2.3.4"
  }
 },
 "nbformat": 4,
 "nbformat_minor": 5
}
